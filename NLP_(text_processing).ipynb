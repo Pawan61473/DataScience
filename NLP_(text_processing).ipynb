{
  "nbformat": 4,
  "nbformat_minor": 0,
  "metadata": {
    "colab": {
      "provenance": [],
      "gpuType": "T4",
      "authorship_tag": "ABX9TyM6g2WHAQZoWi2hGsRobwg8",
      "include_colab_link": true
    },
    "kernelspec": {
      "name": "python3",
      "display_name": "Python 3"
    },
    "language_info": {
      "name": "python"
    }
  },
  "cells": [
    {
      "cell_type": "markdown",
      "metadata": {
        "id": "view-in-github",
        "colab_type": "text"
      },
      "source": [
        "<a href=\"https://colab.research.google.com/github/Pawan61473/DataScience/blob/main/NLP_(text_processing).ipynb\" target=\"_parent\"><img src=\"https://colab.research.google.com/assets/colab-badge.svg\" alt=\"Open In Colab\"/></a>"
      ]
    },
    {
      "cell_type": "code",
      "source": [
        "!pip install nltk"
      ],
      "metadata": {
        "colab": {
          "base_uri": "https://localhost:8080/"
        },
        "id": "azVoYxy4Y1DG",
        "outputId": "1a74ca55-01e4-48fb-ab78-1c29ee863270"
      },
      "execution_count": 1,
      "outputs": [
        {
          "output_type": "stream",
          "name": "stdout",
          "text": [
            "Requirement already satisfied: nltk in /usr/local/lib/python3.10/dist-packages (3.8.1)\n",
            "Requirement already satisfied: click in /usr/local/lib/python3.10/dist-packages (from nltk) (8.1.7)\n",
            "Requirement already satisfied: joblib in /usr/local/lib/python3.10/dist-packages (from nltk) (1.4.2)\n",
            "Requirement already satisfied: regex>=2021.8.3 in /usr/local/lib/python3.10/dist-packages (from nltk) (2023.12.25)\n",
            "Requirement already satisfied: tqdm in /usr/local/lib/python3.10/dist-packages (from nltk) (4.66.4)\n"
          ]
        }
      ]
    },
    {
      "cell_type": "code",
      "execution_count": 3,
      "metadata": {
        "id": "9Ao18sXeYsAp"
      },
      "outputs": [],
      "source": [
        "paragraph = \"\"\"Arijit Singh (born 25 April 1987) is an Indian playback singer and music composer.[7][5][2] The recipient of several accolades including a National Film Award and seven Filmfare Awards, he has recorded songs in several Indian languages, predominantly Hindi and Bengali. He is noted for his ability of performing songs in diverse music genres and is acclaimed for his significant contributions to the contemporary Bollywood Music.[8][9][10] He is considered as one of the best singers of his generation .[11][12][13][14][15]\n",
        "\n",
        "Singh began his career when he participated in the contemporary reality show Fame Gurukul in 2005. Singh made his Hindi cinema debut in 2011 with the song \"Phir Mohabbat\" along with Saim Bhatt and Mohammed Irfan composed by Mithoon for the film Murder 2, although the song was recorded in 2009. The same year he had sung popular songs like \"Raabta\" from Agent Vinod, \"Uska Hi Banana\" from 1920: Evil Returns and \"Duaa\" from Shanghai.\"\"\""
      ]
    },
    {
      "cell_type": "code",
      "source": [
        "paragraph"
      ],
      "metadata": {
        "colab": {
          "base_uri": "https://localhost:8080/",
          "height": 122
        },
        "id": "FJwbSGiqZLiv",
        "outputId": "c9afa531-6305-4308-d7c5-865004b95151"
      },
      "execution_count": 4,
      "outputs": [
        {
          "output_type": "execute_result",
          "data": {
            "text/plain": [
              "'Arijit Singh (born 25 April 1987) is an Indian playback singer and music composer.[7][5][2] The recipient of several accolades including a National Film Award and seven Filmfare Awards, he has recorded songs in several Indian languages, predominantly Hindi and Bengali. He is noted for his ability of performing songs in diverse music genres and is acclaimed for his significant contributions to the contemporary Bollywood Music.[8][9][10] He is considered as one of the best singers of his generation .[11][12][13][14][15]\\n\\nSingh began his career when he participated in the contemporary reality show Fame Gurukul in 2005. Singh made his Hindi cinema debut in 2011 with the song \"Phir Mohabbat\" along with Saim Bhatt and Mohammed Irfan composed by Mithoon for the film Murder 2, although the song was recorded in 2009. The same year he had sung popular songs like \"Raabta\" from Agent Vinod, \"Uska Hi Banana\" from 1920: Evil Returns and \"Duaa\" from Shanghai.'"
            ],
            "application/vnd.google.colaboratory.intrinsic+json": {
              "type": "string"
            }
          },
          "metadata": {},
          "execution_count": 4
        }
      ]
    },
    {
      "cell_type": "code",
      "source": [
        "import nltk\n",
        "from nltk.stem import PorterStemmer\n",
        "from nltk.corpus import stopwords"
      ],
      "metadata": {
        "id": "Xs0Lf_V1ZM-W"
      },
      "execution_count": 5,
      "outputs": []
    },
    {
      "cell_type": "code",
      "source": [
        "#Tokenization\n",
        "nltk.download(\"punkt\")\n",
        "sentences = nltk.sent_tokenize(paragraph)"
      ],
      "metadata": {
        "colab": {
          "base_uri": "https://localhost:8080/"
        },
        "id": "EvxrwMHdZl8i",
        "outputId": "c70780c8-058c-4381-f119-de09a403b72d"
      },
      "execution_count": 6,
      "outputs": [
        {
          "output_type": "stream",
          "name": "stderr",
          "text": [
            "[nltk_data] Downloading package punkt to /root/nltk_data...\n",
            "[nltk_data]   Unzipping tokenizers/punkt.zip.\n"
          ]
        }
      ]
    },
    {
      "cell_type": "code",
      "source": [
        "print(sentences)"
      ],
      "metadata": {
        "colab": {
          "base_uri": "https://localhost:8080/"
        },
        "id": "va-L9rF_aRVH",
        "outputId": "6f84910c-c6de-448b-f3c5-5a6fbe398df7"
      },
      "execution_count": 7,
      "outputs": [
        {
          "output_type": "stream",
          "name": "stdout",
          "text": [
            "['Arijit Singh (born 25 April 1987) is an Indian playback singer and music composer.', '[7][5][2] The recipient of several accolades including a National Film Award and seven Filmfare Awards, he has recorded songs in several Indian languages, predominantly Hindi and Bengali.', 'He is noted for his ability of performing songs in diverse music genres and is acclaimed for his significant contributions to the contemporary Bollywood Music.', '[8][9][10] He is considered as one of the best singers of his generation .', '[11][12][13][14][15]\\n\\nSingh began his career when he participated in the contemporary reality show Fame Gurukul in 2005.', 'Singh made his Hindi cinema debut in 2011 with the song \"Phir Mohabbat\" along with Saim Bhatt and Mohammed Irfan composed by Mithoon for the film Murder 2, although the song was recorded in 2009.', 'The same year he had sung popular songs like \"Raabta\" from Agent Vinod, \"Uska Hi Banana\" from 1920: Evil Returns and \"Duaa\" from Shanghai.']\n"
          ]
        }
      ]
    },
    {
      "cell_type": "code",
      "source": [
        "stemmer = PorterStemmer()"
      ],
      "metadata": {
        "id": "X3mB5rf9abch"
      },
      "execution_count": 8,
      "outputs": []
    },
    {
      "cell_type": "code",
      "source": [
        "from nltk.stem import WordNetLemmatizer"
      ],
      "metadata": {
        "id": "e2ulGR90a5up"
      },
      "execution_count": 9,
      "outputs": []
    },
    {
      "cell_type": "code",
      "source": [
        "lemmatizer = WordNetLemmatizer()"
      ],
      "metadata": {
        "id": "iLy05meCblgI"
      },
      "execution_count": 10,
      "outputs": []
    },
    {
      "cell_type": "code",
      "source": [
        "stemmer.stem(\"goes\")"
      ],
      "metadata": {
        "colab": {
          "base_uri": "https://localhost:8080/",
          "height": 35
        },
        "id": "DQ2dx7WTa2JA",
        "outputId": "0c40a57b-bfb5-40ea-b66f-07970f3aee14"
      },
      "execution_count": 14,
      "outputs": [
        {
          "output_type": "execute_result",
          "data": {
            "text/plain": [
              "'goe'"
            ],
            "application/vnd.google.colaboratory.intrinsic+json": {
              "type": "string"
            }
          },
          "metadata": {},
          "execution_count": 14
        }
      ]
    },
    {
      "cell_type": "code",
      "source": [
        "import nltk\n",
        "nltk.download('wordnet')"
      ],
      "metadata": {
        "colab": {
          "base_uri": "https://localhost:8080/"
        },
        "id": "ukga9qcocLZ9",
        "outputId": "cfeff735-dff4-4b15-8e14-fe1ce48e2019"
      },
      "execution_count": 12,
      "outputs": [
        {
          "output_type": "stream",
          "name": "stderr",
          "text": [
            "[nltk_data] Downloading package wordnet to /root/nltk_data...\n"
          ]
        },
        {
          "output_type": "execute_result",
          "data": {
            "text/plain": [
              "True"
            ]
          },
          "metadata": {},
          "execution_count": 12
        }
      ]
    },
    {
      "cell_type": "code",
      "source": [
        "lemmatizer.lemmatize('goes')"
      ],
      "metadata": {
        "colab": {
          "base_uri": "https://localhost:8080/",
          "height": 35
        },
        "id": "BH-vinA6bq3n",
        "outputId": "fb3eaa0e-3a4c-47ca-d2c8-8d625fc6fe0d"
      },
      "execution_count": 15,
      "outputs": [
        {
          "output_type": "execute_result",
          "data": {
            "text/plain": [
              "'go'"
            ],
            "application/vnd.google.colaboratory.intrinsic+json": {
              "type": "string"
            }
          },
          "metadata": {},
          "execution_count": 15
        }
      ]
    },
    {
      "cell_type": "code",
      "source": [
        "len(sentences)"
      ],
      "metadata": {
        "id": "AZmtor-LbvdU",
        "colab": {
          "base_uri": "https://localhost:8080/"
        },
        "outputId": "120ff283-1070-462e-dc85-3dce3355a9c1"
      },
      "execution_count": 16,
      "outputs": [
        {
          "output_type": "execute_result",
          "data": {
            "text/plain": [
              "7"
            ]
          },
          "metadata": {},
          "execution_count": 16
        }
      ]
    },
    {
      "cell_type": "code",
      "source": [
        "import re\n",
        "corpus = []\n",
        "for i in range(len(sentences)):\n",
        "  review = re.sub('[^a-zA-Z]',' ',sentences[i])\n",
        "  review=review.lower()\n",
        "  corpus.append(review)"
      ],
      "metadata": {
        "id": "gswnzeaY2uwA"
      },
      "execution_count": 21,
      "outputs": []
    },
    {
      "cell_type": "code",
      "source": [
        "corpus"
      ],
      "metadata": {
        "colab": {
          "base_uri": "https://localhost:8080/"
        },
        "id": "1tkJDRvR3RQf",
        "outputId": "c00a3054-46f1-497b-997b-dcca9a1eeacf"
      },
      "execution_count": 22,
      "outputs": [
        {
          "output_type": "execute_result",
          "data": {
            "text/plain": [
              "['arijit singh  born    april       is an indian playback singer and music composer ',\n",
              " '          the recipient of several accolades including a national film award and seven filmfare awards  he has recorded songs in several indian languages  predominantly hindi and bengali ',\n",
              " 'he is noted for his ability of performing songs in diverse music genres and is acclaimed for his significant contributions to the contemporary bollywood music ',\n",
              " '           he is considered as one of the best singers of his generation  ',\n",
              " '                      singh began his career when he participated in the contemporary reality show fame gurukul in      ',\n",
              " 'singh made his hindi cinema debut in      with the song  phir mohabbat  along with saim bhatt and mohammed irfan composed by mithoon for the film murder    although the song was recorded in      ',\n",
              " 'the same year he had sung popular songs like  raabta  from agent vinod   uska hi banana  from       evil returns and  duaa  from shanghai ']"
            ]
          },
          "metadata": {},
          "execution_count": 22
        }
      ]
    },
    {
      "cell_type": "code",
      "source": [
        "## Stemming\n",
        "import nltk\n",
        "nltk.download('stopwords')\n",
        "for i in corpus:\n",
        "  words=nltk.word_tokenize(i)\n",
        "  for word in words:\n",
        "    if word not in set(stopwords.words('english')):\n",
        "      print(stemmer.stem(word))"
      ],
      "metadata": {
        "colab": {
          "base_uri": "https://localhost:8080/"
        },
        "collapsed": true,
        "id": "L2ULyEhY3SJE",
        "outputId": "fe8cf497-02c9-4613-8d0b-e93b2b7b0ded"
      },
      "execution_count": 23,
      "outputs": [
        {
          "output_type": "stream",
          "name": "stdout",
          "text": [
            "arijit\n",
            "singh\n",
            "born\n",
            "april\n",
            "indian\n",
            "playback\n",
            "singer\n",
            "music\n",
            "compos\n",
            "recipi\n",
            "sever\n",
            "accolad\n",
            "includ\n",
            "nation\n",
            "film\n",
            "award\n",
            "seven\n",
            "filmfar\n",
            "award\n",
            "record\n",
            "song\n",
            "sever\n",
            "indian\n",
            "languag\n",
            "predominantli\n",
            "hindi\n",
            "bengali\n",
            "note\n",
            "abil\n",
            "perform\n",
            "song\n",
            "divers\n",
            "music\n",
            "genr\n",
            "acclaim\n",
            "signific\n",
            "contribut\n",
            "contemporari\n",
            "bollywood\n",
            "music\n",
            "consid\n",
            "one\n",
            "best\n",
            "singer\n",
            "gener\n",
            "singh\n",
            "began\n",
            "career\n",
            "particip\n",
            "contemporari\n",
            "realiti\n",
            "show\n",
            "fame\n",
            "gurukul\n",
            "singh\n",
            "made\n",
            "hindi\n",
            "cinema\n",
            "debut\n",
            "song\n",
            "phir\n",
            "mohabbat\n",
            "along\n",
            "saim\n",
            "bhatt\n",
            "moham\n",
            "irfan\n",
            "compos\n",
            "mithoon\n",
            "film\n",
            "murder\n",
            "although\n",
            "song\n",
            "record\n",
            "year\n",
            "sung\n",
            "popular\n",
            "song\n",
            "like\n",
            "raabta\n",
            "agent\n",
            "vinod\n",
            "uska\n",
            "hi\n",
            "banana\n",
            "evil\n",
            "return\n",
            "duaa\n",
            "shanghai\n"
          ]
        },
        {
          "output_type": "stream",
          "name": "stderr",
          "text": [
            "[nltk_data] Downloading package stopwords to /root/nltk_data...\n",
            "[nltk_data]   Package stopwords is already up-to-date!\n"
          ]
        }
      ]
    },
    {
      "cell_type": "code",
      "source": [
        "## Lemmatization\n",
        "\n",
        "import nltk\n",
        "nltk.download('stopwords')\n",
        "for i in corpus:\n",
        "  words=nltk.word_tokenize(i)\n",
        "  for word in words:\n",
        "    if word not in set(stopwords.words('english')):\n",
        "      print(lemmatizer.lemmatize(word))"
      ],
      "metadata": {
        "colab": {
          "base_uri": "https://localhost:8080/"
        },
        "collapsed": true,
        "id": "dJJUrKpU4Ose",
        "outputId": "3fc59c61-0ff2-47d6-83de-d6fdba0e6e7e"
      },
      "execution_count": 24,
      "outputs": [
        {
          "output_type": "stream",
          "name": "stdout",
          "text": [
            "arijit\n",
            "singh\n",
            "born\n",
            "april\n",
            "indian\n",
            "playback\n",
            "singer\n",
            "music\n",
            "composer\n",
            "recipient\n",
            "several\n",
            "accolade\n",
            "including\n",
            "national\n",
            "film\n",
            "award\n",
            "seven\n",
            "filmfare\n",
            "award\n",
            "recorded\n",
            "song\n",
            "several\n",
            "indian\n",
            "language\n",
            "predominantly\n",
            "hindi\n",
            "bengali\n",
            "noted\n",
            "ability\n",
            "performing\n",
            "song\n",
            "diverse\n",
            "music\n",
            "genre\n",
            "acclaimed\n",
            "significant\n",
            "contribution\n",
            "contemporary\n",
            "bollywood\n",
            "music\n",
            "considered\n",
            "one\n",
            "best\n",
            "singer\n",
            "generation\n",
            "singh\n",
            "began\n",
            "career\n",
            "participated\n",
            "contemporary\n",
            "reality\n",
            "show\n",
            "fame\n",
            "gurukul\n",
            "singh\n",
            "made\n",
            "hindi\n",
            "cinema\n",
            "debut\n",
            "song\n",
            "phir\n",
            "mohabbat\n",
            "along\n",
            "saim\n",
            "bhatt\n",
            "mohammed\n",
            "irfan\n",
            "composed\n",
            "mithoon\n",
            "film\n",
            "murder\n",
            "although\n",
            "song\n",
            "recorded\n",
            "year\n",
            "sung\n",
            "popular\n",
            "song\n",
            "like\n",
            "raabta\n",
            "agent\n",
            "vinod\n",
            "uska\n",
            "hi\n",
            "banana\n",
            "evil\n",
            "return\n",
            "duaa\n",
            "shanghai\n"
          ]
        },
        {
          "output_type": "stream",
          "name": "stderr",
          "text": [
            "[nltk_data] Downloading package stopwords to /root/nltk_data...\n",
            "[nltk_data]   Package stopwords is already up-to-date!\n"
          ]
        }
      ]
    },
    {
      "cell_type": "code",
      "source": [
        "## Bag of words\n",
        "\n",
        "from sklearn.feature_extraction.text import CountVectorizer\n",
        "cv = CountVectorizer()"
      ],
      "metadata": {
        "id": "kRXuR9385hGT"
      },
      "execution_count": 25,
      "outputs": []
    },
    {
      "cell_type": "code",
      "source": [
        "X = cv.fit_transform(corpus)"
      ],
      "metadata": {
        "id": "KBTSpgIE53b1"
      },
      "execution_count": 26,
      "outputs": []
    },
    {
      "cell_type": "code",
      "source": [
        "cv.vocabulary_"
      ],
      "metadata": {
        "colab": {
          "base_uri": "https://localhost:8080/"
        },
        "collapsed": true,
        "id": "IS0PAS_p5-PX",
        "outputId": "86aa2450-18ca-486d-b760-c8f41ca43f97"
      },
      "execution_count": 27,
      "outputs": [
        {
          "output_type": "execute_result",
          "data": {
            "text/plain": [
              "{'arijit': 9,\n",
              " 'singh': 83,\n",
              " 'born': 19,\n",
              " 'april': 8,\n",
              " 'is': 50,\n",
              " 'an': 6,\n",
              " 'indian': 48,\n",
              " 'playback': 66,\n",
              " 'singer': 81,\n",
              " 'and': 7,\n",
              " 'music': 58,\n",
              " 'composer': 24,\n",
              " 'the': 87,\n",
              " 'recipient': 71,\n",
              " 'of': 61,\n",
              " 'several': 77,\n",
              " 'accolades': 2,\n",
              " 'including': 47,\n",
              " 'national': 59,\n",
              " 'film': 33,\n",
              " 'award': 11,\n",
              " 'seven': 76,\n",
              " 'filmfare': 34,\n",
              " 'awards': 12,\n",
              " 'he': 42,\n",
              " 'has': 41,\n",
              " 'recorded': 72,\n",
              " 'songs': 85,\n",
              " 'in': 46,\n",
              " 'languages': 51,\n",
              " 'predominantly': 68,\n",
              " 'hindi': 44,\n",
              " 'bengali': 15,\n",
              " 'noted': 60,\n",
              " 'for': 35,\n",
              " 'his': 45,\n",
              " 'ability': 0,\n",
              " 'performing': 64,\n",
              " 'diverse': 29,\n",
              " 'genres': 38,\n",
              " 'acclaimed': 1,\n",
              " 'significant': 80,\n",
              " 'contributions': 27,\n",
              " 'to': 88,\n",
              " 'contemporary': 26,\n",
              " 'bollywood': 18,\n",
              " 'considered': 25,\n",
              " 'as': 10,\n",
              " 'one': 62,\n",
              " 'best': 16,\n",
              " 'singers': 82,\n",
              " 'generation': 37,\n",
              " 'began': 14,\n",
              " 'career': 21,\n",
              " 'when': 92,\n",
              " 'participated': 63,\n",
              " 'reality': 70,\n",
              " 'show': 79,\n",
              " 'fame': 32,\n",
              " 'gurukul': 39,\n",
              " 'made': 53,\n",
              " 'cinema': 22,\n",
              " 'debut': 28,\n",
              " 'with': 93,\n",
              " 'song': 84,\n",
              " 'phir': 65,\n",
              " 'mohabbat': 55,\n",
              " 'along': 4,\n",
              " 'saim': 74,\n",
              " 'bhatt': 17,\n",
              " 'mohammed': 56,\n",
              " 'irfan': 49,\n",
              " 'composed': 23,\n",
              " 'by': 20,\n",
              " 'mithoon': 54,\n",
              " 'murder': 57,\n",
              " 'although': 5,\n",
              " 'was': 91,\n",
              " 'same': 75,\n",
              " 'year': 94,\n",
              " 'had': 40,\n",
              " 'sung': 86,\n",
              " 'popular': 67,\n",
              " 'like': 52,\n",
              " 'raabta': 69,\n",
              " 'from': 36,\n",
              " 'agent': 3,\n",
              " 'vinod': 90,\n",
              " 'uska': 89,\n",
              " 'hi': 43,\n",
              " 'banana': 13,\n",
              " 'evil': 31,\n",
              " 'returns': 73,\n",
              " 'duaa': 30,\n",
              " 'shanghai': 78}"
            ]
          },
          "metadata": {},
          "execution_count": 27
        }
      ]
    },
    {
      "cell_type": "code",
      "source": [],
      "metadata": {
        "colab": {
          "base_uri": "https://localhost:8080/"
        },
        "id": "VuMw6I7J6Ey3",
        "outputId": "e1b5e394-2366-4f05-a69b-efe5d763a62a"
      },
      "execution_count": 29,
      "outputs": [
        {
          "output_type": "execute_result",
          "data": {
            "text/plain": [
              "<7x95 sparse matrix of type '<class 'numpy.int64'>'\n",
              "\twith 129 stored elements in Compressed Sparse Row format>"
            ]
          },
          "metadata": {},
          "execution_count": 29
        }
      ]
    },
    {
      "cell_type": "code",
      "source": [
        "corpus[0]"
      ],
      "metadata": {
        "colab": {
          "base_uri": "https://localhost:8080/",
          "height": 35
        },
        "id": "ulMbCJLB6Nf8",
        "outputId": "c0d3a6ac-aba7-4586-9671-9eac543a2076"
      },
      "execution_count": 30,
      "outputs": [
        {
          "output_type": "execute_result",
          "data": {
            "text/plain": [
              "'arijit singh  born    april       is an indian playback singer and music composer '"
            ],
            "application/vnd.google.colaboratory.intrinsic+json": {
              "type": "string"
            }
          },
          "metadata": {},
          "execution_count": 30
        }
      ]
    },
    {
      "cell_type": "code",
      "source": [
        "X[0].toarray()"
      ],
      "metadata": {
        "colab": {
          "base_uri": "https://localhost:8080/"
        },
        "id": "-9jpPimI6aqi",
        "outputId": "e9be87fb-6a4b-4081-bb6f-6524b5388de3"
      },
      "execution_count": 31,
      "outputs": [
        {
          "output_type": "execute_result",
          "data": {
            "text/plain": [
              "array([[0, 0, 0, 0, 0, 0, 1, 1, 1, 1, 0, 0, 0, 0, 0, 0, 0, 0, 0, 1, 0, 0,\n",
              "        0, 0, 1, 0, 0, 0, 0, 0, 0, 0, 0, 0, 0, 0, 0, 0, 0, 0, 0, 0, 0, 0,\n",
              "        0, 0, 0, 0, 1, 0, 1, 0, 0, 0, 0, 0, 0, 0, 1, 0, 0, 0, 0, 0, 0, 0,\n",
              "        1, 0, 0, 0, 0, 0, 0, 0, 0, 0, 0, 0, 0, 0, 0, 1, 0, 1, 0, 0, 0, 0,\n",
              "        0, 0, 0, 0, 0, 0, 0]])"
            ]
          },
          "metadata": {},
          "execution_count": 31
        }
      ]
    },
    {
      "cell_type": "code",
      "source": [],
      "metadata": {
        "id": "UsOeq7-p6h5n"
      },
      "execution_count": null,
      "outputs": []
    }
  ]
}